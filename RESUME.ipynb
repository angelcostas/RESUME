{
  "nbformat": 4,
  "nbformat_minor": 0,
  "metadata": {
    "colab": {
      "name": "RESUME.ipynb",
      "provenance": [],
      "collapsed_sections": []
    },
    "kernelspec": {
      "name": "python3",
      "display_name": "Python 3"
    },
    "accelerator": "GPU"
  },
  "cells": [
    {
      "cell_type": "markdown",
      "metadata": {
        "id": "adar2iIYozcH",
        "colab_type": "text"
      },
      "source": [
        "\n",
        "\n",
        "# Importing libraries\n",
        "\n"
      ]
    },
    {
      "cell_type": "code",
      "metadata": {
        "id": "KtGf006N3rGV",
        "colab_type": "code",
        "outputId": "2d7ca8a2-07f0-40f6-a49d-da27974b2cec",
        "colab": {
          "base_uri": "https://localhost:8080/",
          "height": 54
        }
      },
      "source": [
        "\n",
        "# ***************************************************************************\n",
        "import numpy as np\n",
        "import re\n",
        "\n",
        "import nltk\n",
        "from nltk.tokenize import sent_tokenize\n",
        "nltk.download('punkt')\n",
        "\n",
        "import spacy\n",
        "\n",
        "from sklearn.cluster import KMeans\n",
        "from sklearn.metrics import pairwise_distances_argmin_min\n",
        "\n",
        "import bs4 as BeautifulSoup\n",
        "import urllib.request  \n",
        "# ***************************************************************************\n"
      ],
      "execution_count": 1,
      "outputs": [
        {
          "output_type": "stream",
          "text": [
            "[nltk_data] Downloading package punkt to /root/nltk_data...\n",
            "[nltk_data]   Package punkt is already up-to-date!\n"
          ],
          "name": "stdout"
        }
      ]
    },
    {
      "cell_type": "code",
      "metadata": {
        "id": "-EyqjT3uPUYI",
        "colab_type": "code",
        "colab": {
          "base_uri": "https://localhost:8080/",
          "height": 259
        },
        "outputId": "6a2c842a-6022-4b0e-d557-c93bd38591ed"
      },
      "source": [
        "!python -m spacy download es_core_news_md"
      ],
      "execution_count": 4,
      "outputs": [
        {
          "output_type": "stream",
          "text": [
            "Collecting es_core_news_md==2.1.0\n",
            "\u001b[?25l  Downloading https://github.com/explosion/spacy-models/releases/download/es_core_news_md-2.1.0/es_core_news_md-2.1.0.tar.gz (73.4MB)\n",
            "\u001b[K     |████████████████████████████████| 73.4MB 1.4MB/s \n",
            "\u001b[?25hBuilding wheels for collected packages: es-core-news-md\n",
            "  Building wheel for es-core-news-md (setup.py) ... \u001b[?25l\u001b[?25hdone\n",
            "  Created wheel for es-core-news-md: filename=es_core_news_md-2.1.0-cp36-none-any.whl size=74602272 sha256=17ef4fc4e033a3d66955f082ad55affc0328d6838fa1be80cce2443d1a9bbf16\n",
            "  Stored in directory: /tmp/pip-ephem-wheel-cache-7kn7v6la/wheels/20/f7/6b/7a1ba56f009b05386d123ea088b56635594a046acd5cfdd2a2\n",
            "Successfully built es-core-news-md\n",
            "Installing collected packages: es-core-news-md\n",
            "Successfully installed es-core-news-md-2.1.0\n",
            "\u001b[38;5;2m✔ Download and installation successful\u001b[0m\n",
            "You can now load the model via spacy.load('es_core_news_md')\n"
          ],
          "name": "stdout"
        }
      ]
    },
    {
      "cell_type": "markdown",
      "metadata": {
        "id": "6l0fY66RpEYf",
        "colab_type": "text"
      },
      "source": [
        "#Fetching content and preprocessing"
      ]
    },
    {
      "cell_type": "code",
      "metadata": {
        "id": "IW-T4Cq15K7Y",
        "colab_type": "code",
        "colab": {}
      },
      "source": [
        "\n",
        "\n",
        "#fetching the content from the URL\n",
        "fetched_data = urllib.request.urlopen('https://es.wikipedia.org/wiki/Prote%C3%ADna')\n",
        "\n",
        "article_read = fetched_data.read()\n",
        "\n",
        "#parsing the URL content and storing in a variable\n",
        "article_parsed = BeautifulSoup.BeautifulSoup(article_read,'html.parser')\n",
        "\n",
        "#returning <p> tags\n",
        "paragraphs = article_parsed.find_all('p')\n",
        "\n",
        "article_content = ''\n",
        "\n",
        "#looping through the paragraphs and adding them to the variable\n",
        "for p in paragraphs:  \n",
        "    article_content += p.text"
      ],
      "execution_count": 0,
      "outputs": []
    },
    {
      "cell_type": "code",
      "metadata": {
        "id": "mG7K0P3d5r-X",
        "colab_type": "code",
        "outputId": "c32f4b92-dc6f-4584-8e95-fc678ebf4493",
        "colab": {
          "base_uri": "https://localhost:8080/",
          "height": 55
        }
      },
      "source": [
        "article_content"
      ],
      "execution_count": 45,
      "outputs": [
        {
          "output_type": "execute_result",
          "data": {
            "text/plain": [
              "'Las proteínas (< en francés: protéine < en griego: πρωτεῖος\\xa0[proteios],\\xa0‘prominente, de primera calidad’?)[1]\\u200b o prótidos[2]\\u200b son macromoléculas formadas por cadenas lineales de aminoácidos. \\nEstas ￼se ensamblan de diversas formas lo que les permite participar como los principales componentes estructurales de las células y los tejidos. Por este motivo el crecimiento, la reparación y el mantenimiento del organismo dependen de ellas. [3]\\u200b \\nPor sus propiedades fisicoquímicas, las proteínas se pueden clasificar en proteínas simples (holoproteidos), formadas solo por aminoácidos o sus derivados; proteínas conjugadas (heteroproteidos), formadas por aminoácidos acompañados de sustancias diversas, y proteínas derivadas, sustancias formadas por desnaturalización y desdoblamiento de las anteriores. Están constituidas por unidades estructurales llamados polímeros[4]\\u200b. Las proteínas son necesarias para la vida, sobre todo por su función plástica (constituyen el 80\\xa0% del protoplasma deshidratado de toda célula), pero también por sus funciones biorreguladoras (forman parte de las enzimas) y de defensa (los anticuerpos son proteínas).[5]\\u200b\\nLas proteínas desempeñan un papel fundamental para la vida. Representan alrededor del 50\\xa0% del peso seco de los tejidos.[6]\\u200b Son las biomoléculas más versátiles y diversas. Son imprescindibles para el crecimiento del organismo y realizan una enorme cantidad de funciones diferentes, entre las que destacan:\\nLas proteínas están formadas por aminoácidos.\\nLas proteínas de todos los seres vivos están determinadas mayoritariamente por su genética (con excepción de algunos péptidos antimicrobianos de síntesis no ribosomal), es decir, la información genética determina en gran medida qué proteínas tiene una célula, un tejido y un organismo.\\nLas proteínas se sintetizan dependiendo de cómo se encuentren regulados los genes que las codifican. Por lo tanto, son susceptibles a señales o factores externos. El conjunto de las proteínas expresadas en una circunstancia determinada es denominado proteoma.\\nLos prótidos o proteínas son biopolímeros formados por un gran número de unidades estructurales simples repetitivas (monómeros) denominadas aminoácidos, unidas por enlaces peptídicos. Debido a su gran tamaño, cuando estas moléculas se dispersan en un disolvente adecuado, forman siempre dispersiones coloidales, con características que las diferencian de las disoluciones de moléculas más pequeñas. Muchas proteínas presentan carga neta en ciertos rangos de pH del medio. Por ello pueden considerarse ionómeros.\\nPor hidrólisis, las moléculas de proteína se dividen en numerosos compuestos relativamente simples, de masa molecular pequeña, que son las unidades fundamentales constituyentes de la macromolécula. Estas unidades son los aminoácidos, de los cuales existen veinte especies diferentes y que se unen entre sí mediante enlaces peptídicos. Cientos y miles de estos aminoácidos pueden participar en la formación de la gran molécula polimérica de una proteína.\\nTodas las proteínas tienen carbono, hidrógeno, oxígeno y nitrógeno, y casi todas poseen también azufre. Si bien hay ligeras variaciones en diferentes proteínas, el contenido de nitrógeno representa, por término medio, 16\\xa0% de la masa total de la molécula; es decir, cada 6,25\\xa0g de proteína contienen 1\\xa0g de N. El factor 6,25 se utiliza para estimar la cantidad de proteína existente en una muestra a partir de la medición de N de la misma.\\nLa síntesis proteica es un proceso complejo cumplido por las células según las directrices de la información suministrada por los genes.\\nLas proteínas son largas cadenas de aminoácidos unidas por enlaces peptídicos entre el grupo carboxilo (-COOH) y el grupo amino (-NH2) de residuos de aminoácido adyacentes. La secuencia de aminoácidos en una proteína está codificada en su gen (una porción de ADN) mediante el código genético. Aunque este código genético específica los 20 aminoácidos \"estándar\" más la selenocisteína y —en ciertos Archaea— la pirrolisina, los residuos en una proteína sufren a veces modificaciones químicas en la modificación postraduccional: antes de que la proteína sea funcional en la célula, o como parte de mecanismos de control. Las proteínas también pueden trabajar juntas para cumplir una función particular, a menudo asociándose para formar complejos proteicos estables.\\nLas proteínas se ensamblan a partir de sus aminoácidos utilizando la información codificada en los genes. Cada proteína tiene su propia secuencia de aminoácidos que está especificada por la secuencia de nucleótidos del gen que la codifica. El código genético está formado por un conjunto de tri-nucleótidos denominados codones. Cada codón (combinación de tres nucleótidos) designa un aminoácido, por ejemplo AUG (adenina-uracilo-guanina) es el código para la metionina. Como el ADN contiene cuatro nucleótidos distintos, el número total de codones posibles es 64; por lo tanto, existe cierta redundancia en el código genético, estando algunos aminoácidos codificados por más de un codón. Los genes codificados en el ADN se transcriben primero en ARN pre-mensajero mediante proteínas como la ARN polimerasa. La mayor parte de los organismos procesan entonces este pre-ARNm (también conocido como tránscrito primario) utilizando varias formas de modificación post-transcripcional para formar ARNm maduros, que se utilizan como molde para la síntesis de proteínas en el ribosoma. En los procariotas el ARNm puede utilizarse tan pronto como se produce, o puede unirse al ribosoma después de haberse alejado del nucleoide. Por el contrario, los eucariotas sintetizan el ARNm en el núcleo celular y lo translocan a través de la envoltura nuclear hasta el citoplasma donde se realiza la síntesis proteica. La tasa de síntesis proteica es mayor en procariotas que en eucariotas y puede alcanzar los 20 aminoácidos por segundo.[7]\\u200b\\nEl proceso de sintetizar una proteína a partir de un molde de ARNm se denomina traducción. El ARNm se carga en el ribosoma y se lee, tres nucleótidos cada vez, emparejando cada codón con su anticodón complementario localizado en una molécula de ARN de transferencia que lleva el aminoácido correspondiente al codón que reconoce. La enzima aminoacil ARNt sintetasa \"carga\" las moléculas de ARN de transferencia (ARNt) con los aminoácidos correctos. El polipéptido creciente se denomina cadena naciente. Las proteínas se biosintetizan siempre del extremo N-terminal al extremo C-terminal.\\nDe esta forma, se consigue la estructura primaria de la proteína, es decir, su secuencia de aminoácidos. Ahora ésta debe plegarse de la forma adecuada para llegar a su estructura nativa, la que desempeña la función. Anfinsen en sus trabajos con la ribonucleasa A, postuló su hipótesis que dice que toda la información necesaria para el plegamiento se encuentra contenida enteramente en la estructura primaria. Esto dio pie a que en 1969 Levinthal sugiriese la existencia de una paradoja a la que se conoce como la paradoja de Levinthal: si una proteína se pliega explorando al azar todas las conformaciones posibles necesitaría un tiempo mayor que la edad del propio Universo. Dado que las proteínas se pliegan en un tiempo razonable y de forma espóntanea, se ha resuelto esta paradoja indicando que las proteínas no prueban todas las conformaciones posibles, sino que eligen una vía de plegamiento específica con un número de pasos finitos, es decir, se reduce el hiperespacio potencial de plegamiento. También cabe mencionar la existencia de chaperonas moleculares, proteínas que ayudan a otras a plegarse con gasto energético (ATP).[8]\\u200b\\nEl tamaño de la proteína sintetizada puede medirse por el número de aminoácidos que contiene y por su masa molecular total, que normalmente se expresa en daltons (Da) (sinónimo de unidad de masa atómica), o su unidad derivada kilodalton (kDa). Por ejemplo, las proteínas de la levadura tienen en promedio 466 aminoácidos y una masa de 53 kDa. Las proteínas más largas que se conocen son las titinas, un componente de el sarcómero muscular, con una masa molecular de casi 3.000 kDa y una longitud total de casi 27\\xa0000 aminoácidos.[9]\\u200b\\nMediante una familia de métodos denominados de síntesis peptídica es posible sintentizar químicamente proteínas pequeñas. Estos métodos dependen de técnicas de síntesis orgánica como la ligación para producir péptidos en gran cantidad.[10]\\u200b La síntesis química permite introducir aminoácidos no naturales en la cadena polipeptídica, como por ejemplo amino ácidos con sondas fluorescentes ligadas a sus cadenas laterales.[11]\\u200b Estos métodos son útiles en laboratorios de bioquímica y biología celular, pero no tanto para aplicaciones comerciales. La síntesis química es ineficiente para polipéptidos de más de 300 aminoácidos, y las proteínas sintetizadas puede que no adopten fácilmente su estructura tridimensional nativa. La mayor parte de los métodos de síntesis química proceden del extremo C-terminal al extremo N-terminal, en dirección contraria por tanto a la reacción biológica.[12]\\u200b\\nEl Proteoma son todas las proteínas expresadas por un genoma, célula o tejido.[13]\\u200b\\nLas proteínas ocupan un lugar de máxima importancia entre las moléculas constituyentes de los seres vivos (biomoléculas) y parte de las enzimas, que son los principales catalizadores de las células. Prácticamente todos los procesos biológicos dependen de la presencia o la actividad de este tipo de moléculas. Bastan algunos ejemplos para dar idea de la variedad y trascendencia de las funciones que desempeñan. Son proteínas:\\nTodas las proteínas realizan elementales funciones para la vida celular, pero además cada una de éstas cuenta con una función más específica de cara a nuestro organismo.\\nDebido a sus funciones, se pueden clasificar en:\\nEs la manera como se organiza una proteína para adquirir cierta forma, presentan una disposición característica en condiciones fisiológicas, pero si se cambian estas condiciones como temperatura o pH pierde la conformación y su función, proceso denominado desnaturalización. La función depende de la conformación y ésta viene determinada por la secuencia de aminoácidos, termodinámicamente solo una conformación es funcional.\\nPara el estudio de la estructura es frecuente considerar una división en cuatro niveles de organización, aunque el cuarto no siempre está presente.\\nConformaciones o niveles estructurales de la disposición tridimensional:\\nLas proteínas adquieren su estructura instantáneamente, no pasan por cada una de las estructuras.\\nDentro de estos niveles estructurales también existen:\\nCinco son las propiedades principales que permiten la existencia y aseguran la función de las proteínas:\\nSi en una disolución de proteínas se producen cambios de pH, alteraciones en la concentración, agitación molecular o variaciones bruscas de temperatura, la solubilidad de las proteínas puede verse reducida hasta el punto de producirse su precipitación. Esto se debe a que los enlaces que mantienen la conformación filamentosa se rompen y la proteína adopta la conformación globular. De este modo, la capa de moléculas de agua no recubre completamente a las moléculas proteicas, las cuales tienden a unirse entre sí dando lugar a grandes partículas que precipitan. Además, sus propiedades biocatalizadoras desaparecen al alterarse el centro activo. Las proteínas que se hallan en ese estado no pueden llevar a cabo la actividad para la que fueron diseñadas, en resumen, no son funcionales.\\nEsta variación de la conformación se denomina desnaturalización. La desnaturalización no afecta a los enlaces peptídicos: al volver a las condiciones normales, puede darse el caso de que la proteína recupere la conformación primitiva, lo que se denomina renaturalización.\\nEjemplos de desnaturalización son la leche cortada como consecuencia de la desnaturalización de la caseína, la precipitación de la clara de huevo al desnaturalizarse la ovoalbúmina por efecto del calor o la fijación de un peinado del cabello por efecto de calor sobre las queratinas del pelo.[15]\\u200b\\nLa estabilidad de una proteína es una medida de la energía que diferencia al estado nativo de otros estados \"no nativos\" o desnaturalizados. Hablaremos de estabilidad termodinámica cuando podamos hacer la diferencia de energía entre el estado nativo y el desnaturalizado, para lo cual se requiere reversibilidad en el proceso de desnaturalización. Y hablaremos de estabilidad cinética cuando, dado que la proteína desnaturaliza irreversiblemente, solo podemos diferenciar energéticamente la proteína nativa del estado de transición (el estado limitante en el proceso de desnaturalización) que da lugar al estado final. En el caso de las proteínas reversibles, también se puede hablar de estabilidad cinética, puesto que el proceso de desnaturalización también presenta un estado limitante. Se ha demostrado que algunas proteínas reversibles pueden carecer de dicho estado limitante, aunque es un tema aún controvertido en la bibliografía científica.\\nLa determinación de la estabilidad proteica puede realizarse con diversas técnicas. La única de ellas que mide directamente los parámetros energéticos es la calorimetría (normalmente en la modalidad de calorimetría diferencial de barrido). En ésta se mide la cantidad de calor que absorbe una disolución de proteína cuando es calentada, de modo que al aumentar la temperatura se produce una transición entre el estado nativo y el estado desnaturalizado que lleva asociada la absorción de una gran cantidad de calor.\\nEl resto de técnicas miden propiedades de las proteínas que son distintas en el estado nativo y en el estado desplegado. Entre ellas se pueden citar la fluorescencia de triptófanos y tirosinas, el dicroísmo circular, radio hidrodinámico, espectroscopia infrarroja y la resonancia magnética nuclear. Una vez hemos elegido la propiedad que vamos a medir para seguir la desnaturalización de la proteína, podemos distinguir dos modalidades: Aquellas que usan como agente desnaturalizante el incremento de temperatura y aquellas que hacen uso de agentes químicos (como urea, cloruro de guanidinio, tiocianato de guanidinio, alcoholes, etc.). Estas últimas relacionan la concentración del agente utilizado con la energía necesaria para la desnaturalización. Una de las técnicas que han emergido en el estudio de las proteínas es la microscopía de fuerza atómica, ésta técnica es cualitativamente distinta de las demás, puesto que no trabaja con sistemas macroscópicos sino con moléculas individuales. Mide la estabilidad de la proteína a través del trabajo necesario para desnaturalizarla cuando se aplica una fuerza por un extremo mientras se mantiene el otro extremo fijo a una superficie.\\nLa importancia del estudio de la estabilidad proteica está en sus implicaciones biomédicas y biotecnológicas. Así, enfermedades como el Alzheimer o el Parkinson están relacionadas con la formación de amiloides (polímeros de proteínas desnaturalizadas). El tratamiento eficaz de estas enfermedades podría encontrarse en el desarrollo de fármacos que desestabilizaran las formas amiloidogénicas o bien que estabilizaran las formas nativas. Por otro lado, cada vez más proteínas van siendo utilizadas como fármacos. Resulta obvio que los fármacos deben presentar una estabilidad que les dé un alto tiempo de vida cuando están almacenados y un tiempo de vida limitado cuando están realizando su acción en el cuerpo humano.\\nSu uso en las aplicaciones biotecnológicas se dificulta debido a que pese a su extrema eficacia catalítica presentan una baja estabilidad ya que muchas proteínas de potencial interés apenas mantienen su configuración nativa y funcional por unas horas.\\nLas proteínas según su composición química pueden ser clasificadas en:\\n1.- Proteínas Simples u Holoproteínas: en su hidrólisis solo produce aminoácidos. Ejemplos de estas son la insulina y el colágeno (globulares y fibrosas), albúminas.Proteína simple\\n2.- Proteínas Conjugadas o heteroproteína: estas proteínas contienen cadenas polipeptídicas y un grupo prostético. La porción no aminoacídica se denomina grupo prostético, estos pueden ser un ácido nucleico, un lípido, un azúcar o ion inorgánico. Ejemplo de estas son la mioglobina y los citocromo. Las proteínas conjugados o heteroproteínas se clasifican de acuerdo a la naturaleza de su grupo prostético:\\nNucleoproteínas: Su grupo prostético son los ácidos nucleicos.\\nLipoproteínas: Su grupo prostético son los fosfolípidos, colesterol y triglicéridos.\\nMetaloproteínas: El grupo prostético está formado por metales.\\nCromoproteínas: Son proteínas conjugadas por un grupo cromóforo  (sustancia coloreada que contiene un metal).\\nGlucoproteínas:  El grupo prostético está formado por los carbohidratos.[16]\\u200b\\nFosfoproteínas: Son proteínas conjugadas con un radical que contiene fosfato, distinto de un ácido nucleico o de un fosfolípido.\\nLas fuentes dietéticas de proteínas incluyen carne, huevos, legumbres, frutos secos, cereales, verduras y productos lácteos tales como queso o yogur. Tanto las fuentes proteínas animales como los vegetales poseen los 20 aminoácidos necesarios para la alimentación humana.\\nLas diferentes proteínas tienen diferentes niveles de familia biológica para el cuerpo humano. Muchos índices han sido definidos para medir la tasa de utilización y retención de proteínas en humanos. Estos incluyen valor biológico, NPU (Net Protein Utilization), NPR (Cociente Proteico Neto) y PDCAAS (Protein Digestibility Corrected Amino Acids Score), la cual fue desarrollado por la FDA mejorando el PER (Protein Efficiency Ratio). Estos métodos examinan qué proteínas son más eficientemente usadas por el organismo.\\nEl reactivo de Biuret está formado por una disolución de sulfato de cobre en medio alcalino, este reconoce el enlace peptídico de las proteínas mediante la formación de un complejo de coordinación entre los iones Cu2+ y los pares de electrones no compartidos del nitrógeno que forma parte de los enlaces peptídicos, lo que produce una coloración rojo-violeta.\\nSe pone de manifiesto por la formación de un precipitado negruzco de sulfuro de plomo. Se basa esta reacción en la separación mediante un álcali, del azufre de los aminoácidos, el cual al reaccionar con una solución de acetato de plomo, forma el sulfuro de plomo.\\nReconoce residuos fenólicos, o sea aquellas proteínas que contengan tirosina. Las proteínas se precipitan por acción de los ácidos inorgánicos fuertes del reactivo, dando un precipitado blanco que se vuelve gradualmente rojo al calentar.\\nReconoce grupos aromáticos, o sea aquellas proteínas que contengan tirosina o fenilalanina, con las cuales el ácido nítrico forma compuestos nitrados amarillos\\nRequerimientos proteicos de la dieta por edad y sexo\\n(años)\\n(Kg)\\n(g/día)\\n0.5\\n9\\n14\\n4-6\\n7-10\\n20\\n28\\n24\\n28\\n15-18\\n19-24\\n25-50\\nmás de 50\\n66\\n72\\n79\\n77\\n59\\n58\\n63\\n63\\n15-18\\n19-24\\n25- 50\\nmás de 50\\n55\\n58\\n63\\n65\\n44\\n46\\n50\\n50\\nFood and Nutrition Board, National Academy of\\nScience/National Research Council 1989\\nDeficiencia de proteínas en países en vías de desarrollo.\\nLa deficiencia de proteína es una causa importante de enfermedad y muerte en el tercer mundo. La deficiencia de proteína juega una parte en la enfermedad conocida como kwashiorkor. La guerra, la hambruna, la sobrepoblación y otros factores incrementaron la tasa de malnutrición y deficiencia de proteínas. La deficiencia de proteína puede conducir a una inteligencia reducida o retardo mental.\\nLa malnutrición proteico calórica afecta a 500 millones de personas y más de 10 millones anualmente[cita\\xa0requerida]. En casos severos el número de células blancas disminuye, de la misma manera se ve reducida drásticamente la habilidad de los leucocitos de combatir una infección.\\nDeficiencia de proteínas en países desarrollados\\nLa deficiencia de proteínas es rara en países desarrollados pero un pequeño número de personas tiene dificultad para obtener suficiente proteína debido a la pobreza. La deficiencia de proteína también puede ocurrir en países desarrollados en personas que están haciendo dieta para perder peso, o en adultos mayores quienes pueden tener una dieta pobre. Las personas convalecientes, recuperándose de cirugía, trauma o enfermedades pueden tener déficit proteico si no incrementan su consumo para soportar el incremento en sus necesidades. Una deficiencia también puede ocurrir si la proteína consumida por una persona está incompleta y falla en proveer todos los aminoácidos esenciales.\\nComo el organismo es incapaz de almacenar las proteínas, el exceso de proteínas es digerido y convertido en azúcares o ácidos grasos. El hígado retira el nitrógeno de los aminoácidos, una manera de que éstos pueden ser consumidos como combustible, y el nitrógeno es incorporado en la urea, la sustancia que es excretada por los riñones. Estos órganos normalmente pueden lidiar con cualquier sobrecarga adicional, pero si existe enfermedad renal, una disminución en la proteína frecuentemente será prescrita.\\nEl exceso en el consumo de proteínas también puede causar la pérdida de calcio corporal, lo cual puede conducir a pérdida de masa ósea a largo plazo. Sin embargo, varios suplementos proteicos vienen suplementados con diferentes cantidades de calcio por ración, de manera que pueden contrarrestar el efecto de la pérdida de calcio.\\nAlgunos médicos sospechan[¿quién?] que el consumo excesivo de proteínas está ligado a varios problemas:\\nEn tales casos, el consumo de proteínas es anabólico para el hueso. Algunos investigadores[¿quién?] piensan que un consumo excesivo de proteínas produce un incremento forzado en la excreción del calcio. Si hay consumo excesivo de proteínas, se piensa que un consumo regular de calcio sería capaz de estabilizar, o inclusive incrementar, la captación de calcio por el intestino delgado[cita\\xa0requerida], lo cual sería más beneficioso en mujeres mayores[cita\\xa0requerida].\\nLas proteínas son frecuentemente causa de alergias y reacciones alérgicas a ciertos alimentos. Esto ocurre porque la estructura de cada forma de proteína es ligeramente diferente. Algunas pueden desencadenar una respuesta a partir del sistema inmune, mientras que otras permanecen perfectamente seguras. Muchas personas son alérgicas a la caseína (la proteína en la leche), al gluten (la proteína en el trigo) y otros granos, a la proteína particular encontrada en el maní o aquellas encontradas en mariscos y otras comidas marinas.\\nEs extremadamente inusual que una misma persona reaccione adversamente a más de dos tipos diferentes de proteínas, debido a la diversidad entre los tipos de proteínas o aminoácidos. Aparte de eso, las proteínas ayudan a la formación de la masa muscular.\\nLas proteínas en los alimentos, es un parámetro de importancia desde el punto de vista económico y de la calidad y cualidades organolépticas y nutricionales. Debido a ello su medición está incluida dentro del Análisis Químico Proximal de los alimentos (en el cual se mide principalmente el contenido de humedad, grasa, proteína y cenizas).[18]\\u200b\\nEl clásico ensayo para medir concentración de proteínas en alimentos es el método de Kjeldahl. Este ensayo determina el nitrógeno total en una muestra. El único componente de la mayoría de los alimentos que contiene nitrógeno son las proteínas (las grasas, los carbohidratos y la fibra dietética no contienen nitrógeno). Si la cantidad de nitrógeno es multiplicada por un factor dependiente del tipo de proteína esperada en el alimento, la cantidad total de proteínas puede ser determinada. En las etiquetas de los alimentos, la proteína es expresada como el nitrógeno multiplicado por 6,25, porque el contenido de nitrógeno promedio de las proteínas es de aproximadamente 16\\xa0%. El método de Kjeldahl es usado porque es el método que la AOAC International ha adoptado y por lo tanto es usado por varias agencias alimentarias alrededor del mundo.\\nLa digestión de las proteínas se inicia típicamente en el estómago, cuando el pepsinógeno es convertido a pepsina por la acción del ácido clorhídrico, y continúa por la acción de la tripsina y la quimotripsina en el intestino. Las proteínas de la dieta son degradadas a péptidos cada vez más pequeños, y éstos hasta aminoácidos y sus derivados, que son absorbidos por el epitelio gastrointestinal. La tasa de absorción de los aminoácidos individuales es altamente dependiente de la fuente de proteínas. Por ejemplo, la digestibilidad de muchos aminoácidos en humanos difiere entre la proteína de la soja y la proteína de la leche[19]\\u200b\\ny entre proteínas de la leche individuales, como beta-lactoglobulina y caseína.[20]\\u200b\\nPara las proteínas de la leche, aproximadamente el 50\\xa0% de la proteína ingerida se absorbe en el duodeno o el yeyuno,[21]\\u200b y el 90\\xa0% se ha absorbido ya cuando los alimentos ingeridos alcanzan el íleon.[22]\\u200b\\nAdemás de su rol en la síntesis de proteínas, los aminoácidos también son una importante fuente nutricional de nitrógeno. Las proteínas, al igual que los carbohidratos, contienen cuatro kilocalorías por gramo, mientras que los lípidos contienen nueve kcal., y los alcoholes, siete kcal. Los aminoácidos pueden ser convertidos en glucosa a través de un proceso llamado gluconeogénesis.\\nLas estructuras y actividades de las proteínas pueden ser estudiadas in vitro, in vivo e in silico. Los estudios in vitro de proteínas purificadas en ambientes controlados son útiles para comprender de qué manera una proteína lleva a cabo su función: por ejemplo, los estudios de cinética enzimática exploran los mecanismos químicos de la actividad catalítica de una enzima y su afinidad relativa por diferentes sustratos moleculares. Por su parte, los experimentos in vivo pueden aportar información sobre el papel fisiológico de una determinada enzima en el contexto de la célula o incluso de todo un organismo. Los estudios in silico usan métodos computacionales para el estudio de las proteínas.\\nPara realizar el análisis in vitro de una proteína, esta debe ser separada de otros componentes celulares. Este proceso generalmente empieza con la lisis de la célula, en la cual se destruye la membrana celular y su contenido se libera formando una solución llamada lisado crudo. La mezcla resultante puede ser purificada utilizando ultracentrifugación, que separa los distintos componentes celulares en fracciones que contienen proteínas solubles; lípidos y proteínas de membrana; orgánulos celulares y ácidos nucléicos. La precipitación por un método que se basa en la utilización de elevadas concentraciones salinas puede concentrar las proteínas del lisado. Diversos tipos de cromatografía se usan para aislar la proteína o proteínas de interés basándose en propiedades como la masa molecular, carga neta o afinidad de unión. El nivel de purificación puede ser monitorizado empleando varios tipos de electroforesis en gel si se conocen la masa molecular y el punto isoeléctrico de la proteína estudiada, por espectroscopía si la proteína tiene características espectroscópicas distinguibles, o bien por ensayos de enzimas si la proteína tiene una actividad enzimática. Además, las proteínas pueden ser aisladas según su carga por medio de la técnica de isoelectroenfoque.\\nPara las proteínas naturales, pueden ser necesarios varios pasos de purificación para obtener proteína suficientemente pura para su uso en laboratorios. Para simplificar este proceso se utiliza a menudo la ingeniería genética para añadir características químicas a la proteína que faciliten su purificación, sin alterar su estructura o función. Como ejemplo, se le puede unir al final de la proteína una etiqueta consistente en una secuencia de aminoácidos específica, a menudo una serie de residuos de histidina. Como resultado, cuando el lisado se hace pasar por una columna de cromatografía que contenga níquel los residuos de histidina se unen al níquel y anclan la proteína a la columna mientras que los componentes no etiquetados del lisado pasan sin impedimento.\\nEl estudio de las proteínas in vivo trata de conocer cual es la localización y el lugar de síntesis de la proteína en la célula. Aunque muchas proteínas intracelulares se sintetizan en el citoplasma y las proteínas de membrana o secretadas en el retículo endoplasmático, los detalles de cómo las proteínas son dirigidas a orgánulos o estructuras celulares específicas no se conocen bien. Una técnica útil para estimar la localización celular utiliza la ingeniería genética para expresar en la célula una proteína de fusión o quimera formada por la proteína natural de interés unida a un reportero como la proteína verde fluorescente. La localización en la célula de la proteína fusionada puede ser visualizada de forma clara y eficiente por microscopía, como se ve en el ejemplo de la figura.\\nOtro método para elucidar la localización celular de las proteínas de marcadores de compartimento conocidos para regiones como el retículo endoplasmático, aparato de golgi, lisosomas, vacuolas, mitocondrias, cloroplastos, membrana plasmática, etc. Con el uso se versiones etiquetadas con fluorescencia de estos marcadores o de anticuerpor para marcadores conocidos se facilita la localización celular de una proteína de interés. Por ejemplo, la inmunofluorescencia indirecta permite la colocalización por fluorescencia y la demostración de la localización. Las tinciones fluorescentes se usan para etiquetar compartimentos celulares con un propósito similar.\\nExisten otras posibilidades. Por ejemplo, la inmunohistoquímica utiliza un anticuerpo específico de una o varias proteínas de interés que están conjugadas a enzimas que producen señales por luminiscencia o cromogénicas que pueden detectarse y compararse entre muestras, lo que permite obtener información sobre la localización celular de las proteínas. Otra técnica aplicable es la cofraccionación en gradientes de sacarosa (u otro material) utilizando la centrifugación isopícnica o diferencial.\\nRef.:[24]\\u200b\\n'"
            ]
          },
          "metadata": {
            "tags": []
          },
          "execution_count": 45
        }
      ]
    },
    {
      "cell_type": "code",
      "metadata": {
        "id": "GVUWepB7-a3R",
        "colab_type": "code",
        "outputId": "13a26d57-03f1-434a-d0ee-70d9eece4da7",
        "colab": {
          "base_uri": "https://localhost:8080/",
          "height": 35
        }
      },
      "source": [
        "retext = re.split('\\n',article_content)\n",
        "len(retext)"
      ],
      "execution_count": 46,
      "outputs": [
        {
          "output_type": "execute_result",
          "data": {
            "text/plain": [
              "114"
            ]
          },
          "metadata": {
            "tags": []
          },
          "execution_count": 46
        }
      ]
    },
    {
      "cell_type": "code",
      "metadata": {
        "id": "_ZNV1UM4-7dS",
        "colab_type": "code",
        "colab": {
          "base_uri": "https://localhost:8080/",
          "height": 1000
        },
        "outputId": "2839ad61-d6b3-410c-eded-961ad246c847"
      },
      "source": [
        "for par in retext:\n",
        "  print(par)"
      ],
      "execution_count": 47,
      "outputs": [
        {
          "output_type": "stream",
          "text": [
            "Las proteínas (< en francés: protéine < en griego: πρωτεῖος [proteios], ‘prominente, de primera calidad’?)[1]​ o prótidos[2]​ son macromoléculas formadas por cadenas lineales de aminoácidos. \n",
            "Estas ￼se ensamblan de diversas formas lo que les permite participar como los principales componentes estructurales de las células y los tejidos. Por este motivo el crecimiento, la reparación y el mantenimiento del organismo dependen de ellas. [3]​ \n",
            "Por sus propiedades fisicoquímicas, las proteínas se pueden clasificar en proteínas simples (holoproteidos), formadas solo por aminoácidos o sus derivados; proteínas conjugadas (heteroproteidos), formadas por aminoácidos acompañados de sustancias diversas, y proteínas derivadas, sustancias formadas por desnaturalización y desdoblamiento de las anteriores. Están constituidas por unidades estructurales llamados polímeros[4]​. Las proteínas son necesarias para la vida, sobre todo por su función plástica (constituyen el 80 % del protoplasma deshidratado de toda célula), pero también por sus funciones biorreguladoras (forman parte de las enzimas) y de defensa (los anticuerpos son proteínas).[5]​\n",
            "Las proteínas desempeñan un papel fundamental para la vida. Representan alrededor del 50 % del peso seco de los tejidos.[6]​ Son las biomoléculas más versátiles y diversas. Son imprescindibles para el crecimiento del organismo y realizan una enorme cantidad de funciones diferentes, entre las que destacan:\n",
            "Las proteínas están formadas por aminoácidos.\n",
            "Las proteínas de todos los seres vivos están determinadas mayoritariamente por su genética (con excepción de algunos péptidos antimicrobianos de síntesis no ribosomal), es decir, la información genética determina en gran medida qué proteínas tiene una célula, un tejido y un organismo.\n",
            "Las proteínas se sintetizan dependiendo de cómo se encuentren regulados los genes que las codifican. Por lo tanto, son susceptibles a señales o factores externos. El conjunto de las proteínas expresadas en una circunstancia determinada es denominado proteoma.\n",
            "Los prótidos o proteínas son biopolímeros formados por un gran número de unidades estructurales simples repetitivas (monómeros) denominadas aminoácidos, unidas por enlaces peptídicos. Debido a su gran tamaño, cuando estas moléculas se dispersan en un disolvente adecuado, forman siempre dispersiones coloidales, con características que las diferencian de las disoluciones de moléculas más pequeñas. Muchas proteínas presentan carga neta en ciertos rangos de pH del medio. Por ello pueden considerarse ionómeros.\n",
            "Por hidrólisis, las moléculas de proteína se dividen en numerosos compuestos relativamente simples, de masa molecular pequeña, que son las unidades fundamentales constituyentes de la macromolécula. Estas unidades son los aminoácidos, de los cuales existen veinte especies diferentes y que se unen entre sí mediante enlaces peptídicos. Cientos y miles de estos aminoácidos pueden participar en la formación de la gran molécula polimérica de una proteína.\n",
            "Todas las proteínas tienen carbono, hidrógeno, oxígeno y nitrógeno, y casi todas poseen también azufre. Si bien hay ligeras variaciones en diferentes proteínas, el contenido de nitrógeno representa, por término medio, 16 % de la masa total de la molécula; es decir, cada 6,25 g de proteína contienen 1 g de N. El factor 6,25 se utiliza para estimar la cantidad de proteína existente en una muestra a partir de la medición de N de la misma.\n",
            "La síntesis proteica es un proceso complejo cumplido por las células según las directrices de la información suministrada por los genes.\n",
            "Las proteínas son largas cadenas de aminoácidos unidas por enlaces peptídicos entre el grupo carboxilo (-COOH) y el grupo amino (-NH2) de residuos de aminoácido adyacentes. La secuencia de aminoácidos en una proteína está codificada en su gen (una porción de ADN) mediante el código genético. Aunque este código genético específica los 20 aminoácidos \"estándar\" más la selenocisteína y —en ciertos Archaea— la pirrolisina, los residuos en una proteína sufren a veces modificaciones químicas en la modificación postraduccional: antes de que la proteína sea funcional en la célula, o como parte de mecanismos de control. Las proteínas también pueden trabajar juntas para cumplir una función particular, a menudo asociándose para formar complejos proteicos estables.\n",
            "Las proteínas se ensamblan a partir de sus aminoácidos utilizando la información codificada en los genes. Cada proteína tiene su propia secuencia de aminoácidos que está especificada por la secuencia de nucleótidos del gen que la codifica. El código genético está formado por un conjunto de tri-nucleótidos denominados codones. Cada codón (combinación de tres nucleótidos) designa un aminoácido, por ejemplo AUG (adenina-uracilo-guanina) es el código para la metionina. Como el ADN contiene cuatro nucleótidos distintos, el número total de codones posibles es 64; por lo tanto, existe cierta redundancia en el código genético, estando algunos aminoácidos codificados por más de un codón. Los genes codificados en el ADN se transcriben primero en ARN pre-mensajero mediante proteínas como la ARN polimerasa. La mayor parte de los organismos procesan entonces este pre-ARNm (también conocido como tránscrito primario) utilizando varias formas de modificación post-transcripcional para formar ARNm maduros, que se utilizan como molde para la síntesis de proteínas en el ribosoma. En los procariotas el ARNm puede utilizarse tan pronto como se produce, o puede unirse al ribosoma después de haberse alejado del nucleoide. Por el contrario, los eucariotas sintetizan el ARNm en el núcleo celular y lo translocan a través de la envoltura nuclear hasta el citoplasma donde se realiza la síntesis proteica. La tasa de síntesis proteica es mayor en procariotas que en eucariotas y puede alcanzar los 20 aminoácidos por segundo.[7]​\n",
            "El proceso de sintetizar una proteína a partir de un molde de ARNm se denomina traducción. El ARNm se carga en el ribosoma y se lee, tres nucleótidos cada vez, emparejando cada codón con su anticodón complementario localizado en una molécula de ARN de transferencia que lleva el aminoácido correspondiente al codón que reconoce. La enzima aminoacil ARNt sintetasa \"carga\" las moléculas de ARN de transferencia (ARNt) con los aminoácidos correctos. El polipéptido creciente se denomina cadena naciente. Las proteínas se biosintetizan siempre del extremo N-terminal al extremo C-terminal.\n",
            "De esta forma, se consigue la estructura primaria de la proteína, es decir, su secuencia de aminoácidos. Ahora ésta debe plegarse de la forma adecuada para llegar a su estructura nativa, la que desempeña la función. Anfinsen en sus trabajos con la ribonucleasa A, postuló su hipótesis que dice que toda la información necesaria para el plegamiento se encuentra contenida enteramente en la estructura primaria. Esto dio pie a que en 1969 Levinthal sugiriese la existencia de una paradoja a la que se conoce como la paradoja de Levinthal: si una proteína se pliega explorando al azar todas las conformaciones posibles necesitaría un tiempo mayor que la edad del propio Universo. Dado que las proteínas se pliegan en un tiempo razonable y de forma espóntanea, se ha resuelto esta paradoja indicando que las proteínas no prueban todas las conformaciones posibles, sino que eligen una vía de plegamiento específica con un número de pasos finitos, es decir, se reduce el hiperespacio potencial de plegamiento. También cabe mencionar la existencia de chaperonas moleculares, proteínas que ayudan a otras a plegarse con gasto energético (ATP).[8]​\n",
            "El tamaño de la proteína sintetizada puede medirse por el número de aminoácidos que contiene y por su masa molecular total, que normalmente se expresa en daltons (Da) (sinónimo de unidad de masa atómica), o su unidad derivada kilodalton (kDa). Por ejemplo, las proteínas de la levadura tienen en promedio 466 aminoácidos y una masa de 53 kDa. Las proteínas más largas que se conocen son las titinas, un componente de el sarcómero muscular, con una masa molecular de casi 3.000 kDa y una longitud total de casi 27 000 aminoácidos.[9]​\n",
            "Mediante una familia de métodos denominados de síntesis peptídica es posible sintentizar químicamente proteínas pequeñas. Estos métodos dependen de técnicas de síntesis orgánica como la ligación para producir péptidos en gran cantidad.[10]​ La síntesis química permite introducir aminoácidos no naturales en la cadena polipeptídica, como por ejemplo amino ácidos con sondas fluorescentes ligadas a sus cadenas laterales.[11]​ Estos métodos son útiles en laboratorios de bioquímica y biología celular, pero no tanto para aplicaciones comerciales. La síntesis química es ineficiente para polipéptidos de más de 300 aminoácidos, y las proteínas sintetizadas puede que no adopten fácilmente su estructura tridimensional nativa. La mayor parte de los métodos de síntesis química proceden del extremo C-terminal al extremo N-terminal, en dirección contraria por tanto a la reacción biológica.[12]​\n",
            "El Proteoma son todas las proteínas expresadas por un genoma, célula o tejido.[13]​\n",
            "Las proteínas ocupan un lugar de máxima importancia entre las moléculas constituyentes de los seres vivos (biomoléculas) y parte de las enzimas, que son los principales catalizadores de las células. Prácticamente todos los procesos biológicos dependen de la presencia o la actividad de este tipo de moléculas. Bastan algunos ejemplos para dar idea de la variedad y trascendencia de las funciones que desempeñan. Son proteínas:\n",
            "Todas las proteínas realizan elementales funciones para la vida celular, pero además cada una de éstas cuenta con una función más específica de cara a nuestro organismo.\n",
            "Debido a sus funciones, se pueden clasificar en:\n",
            "Es la manera como se organiza una proteína para adquirir cierta forma, presentan una disposición característica en condiciones fisiológicas, pero si se cambian estas condiciones como temperatura o pH pierde la conformación y su función, proceso denominado desnaturalización. La función depende de la conformación y ésta viene determinada por la secuencia de aminoácidos, termodinámicamente solo una conformación es funcional.\n",
            "Para el estudio de la estructura es frecuente considerar una división en cuatro niveles de organización, aunque el cuarto no siempre está presente.\n",
            "Conformaciones o niveles estructurales de la disposición tridimensional:\n",
            "Las proteínas adquieren su estructura instantáneamente, no pasan por cada una de las estructuras.\n",
            "Dentro de estos niveles estructurales también existen:\n",
            "Cinco son las propiedades principales que permiten la existencia y aseguran la función de las proteínas:\n",
            "Si en una disolución de proteínas se producen cambios de pH, alteraciones en la concentración, agitación molecular o variaciones bruscas de temperatura, la solubilidad de las proteínas puede verse reducida hasta el punto de producirse su precipitación. Esto se debe a que los enlaces que mantienen la conformación filamentosa se rompen y la proteína adopta la conformación globular. De este modo, la capa de moléculas de agua no recubre completamente a las moléculas proteicas, las cuales tienden a unirse entre sí dando lugar a grandes partículas que precipitan. Además, sus propiedades biocatalizadoras desaparecen al alterarse el centro activo. Las proteínas que se hallan en ese estado no pueden llevar a cabo la actividad para la que fueron diseñadas, en resumen, no son funcionales.\n",
            "Esta variación de la conformación se denomina desnaturalización. La desnaturalización no afecta a los enlaces peptídicos: al volver a las condiciones normales, puede darse el caso de que la proteína recupere la conformación primitiva, lo que se denomina renaturalización.\n",
            "Ejemplos de desnaturalización son la leche cortada como consecuencia de la desnaturalización de la caseína, la precipitación de la clara de huevo al desnaturalizarse la ovoalbúmina por efecto del calor o la fijación de un peinado del cabello por efecto de calor sobre las queratinas del pelo.[15]​\n",
            "La estabilidad de una proteína es una medida de la energía que diferencia al estado nativo de otros estados \"no nativos\" o desnaturalizados. Hablaremos de estabilidad termodinámica cuando podamos hacer la diferencia de energía entre el estado nativo y el desnaturalizado, para lo cual se requiere reversibilidad en el proceso de desnaturalización. Y hablaremos de estabilidad cinética cuando, dado que la proteína desnaturaliza irreversiblemente, solo podemos diferenciar energéticamente la proteína nativa del estado de transición (el estado limitante en el proceso de desnaturalización) que da lugar al estado final. En el caso de las proteínas reversibles, también se puede hablar de estabilidad cinética, puesto que el proceso de desnaturalización también presenta un estado limitante. Se ha demostrado que algunas proteínas reversibles pueden carecer de dicho estado limitante, aunque es un tema aún controvertido en la bibliografía científica.\n",
            "La determinación de la estabilidad proteica puede realizarse con diversas técnicas. La única de ellas que mide directamente los parámetros energéticos es la calorimetría (normalmente en la modalidad de calorimetría diferencial de barrido). En ésta se mide la cantidad de calor que absorbe una disolución de proteína cuando es calentada, de modo que al aumentar la temperatura se produce una transición entre el estado nativo y el estado desnaturalizado que lleva asociada la absorción de una gran cantidad de calor.\n",
            "El resto de técnicas miden propiedades de las proteínas que son distintas en el estado nativo y en el estado desplegado. Entre ellas se pueden citar la fluorescencia de triptófanos y tirosinas, el dicroísmo circular, radio hidrodinámico, espectroscopia infrarroja y la resonancia magnética nuclear. Una vez hemos elegido la propiedad que vamos a medir para seguir la desnaturalización de la proteína, podemos distinguir dos modalidades: Aquellas que usan como agente desnaturalizante el incremento de temperatura y aquellas que hacen uso de agentes químicos (como urea, cloruro de guanidinio, tiocianato de guanidinio, alcoholes, etc.). Estas últimas relacionan la concentración del agente utilizado con la energía necesaria para la desnaturalización. Una de las técnicas que han emergido en el estudio de las proteínas es la microscopía de fuerza atómica, ésta técnica es cualitativamente distinta de las demás, puesto que no trabaja con sistemas macroscópicos sino con moléculas individuales. Mide la estabilidad de la proteína a través del trabajo necesario para desnaturalizarla cuando se aplica una fuerza por un extremo mientras se mantiene el otro extremo fijo a una superficie.\n",
            "La importancia del estudio de la estabilidad proteica está en sus implicaciones biomédicas y biotecnológicas. Así, enfermedades como el Alzheimer o el Parkinson están relacionadas con la formación de amiloides (polímeros de proteínas desnaturalizadas). El tratamiento eficaz de estas enfermedades podría encontrarse en el desarrollo de fármacos que desestabilizaran las formas amiloidogénicas o bien que estabilizaran las formas nativas. Por otro lado, cada vez más proteínas van siendo utilizadas como fármacos. Resulta obvio que los fármacos deben presentar una estabilidad que les dé un alto tiempo de vida cuando están almacenados y un tiempo de vida limitado cuando están realizando su acción en el cuerpo humano.\n",
            "Su uso en las aplicaciones biotecnológicas se dificulta debido a que pese a su extrema eficacia catalítica presentan una baja estabilidad ya que muchas proteínas de potencial interés apenas mantienen su configuración nativa y funcional por unas horas.\n",
            "Las proteínas según su composición química pueden ser clasificadas en:\n",
            "1.- Proteínas Simples u Holoproteínas: en su hidrólisis solo produce aminoácidos. Ejemplos de estas son la insulina y el colágeno (globulares y fibrosas), albúminas.Proteína simple\n",
            "2.- Proteínas Conjugadas o heteroproteína: estas proteínas contienen cadenas polipeptídicas y un grupo prostético. La porción no aminoacídica se denomina grupo prostético, estos pueden ser un ácido nucleico, un lípido, un azúcar o ion inorgánico. Ejemplo de estas son la mioglobina y los citocromo. Las proteínas conjugados o heteroproteínas se clasifican de acuerdo a la naturaleza de su grupo prostético:\n",
            "Nucleoproteínas: Su grupo prostético son los ácidos nucleicos.\n",
            "Lipoproteínas: Su grupo prostético son los fosfolípidos, colesterol y triglicéridos.\n",
            "Metaloproteínas: El grupo prostético está formado por metales.\n",
            "Cromoproteínas: Son proteínas conjugadas por un grupo cromóforo  (sustancia coloreada que contiene un metal).\n",
            "Glucoproteínas:  El grupo prostético está formado por los carbohidratos.[16]​\n",
            "Fosfoproteínas: Son proteínas conjugadas con un radical que contiene fosfato, distinto de un ácido nucleico o de un fosfolípido.\n",
            "Las fuentes dietéticas de proteínas incluyen carne, huevos, legumbres, frutos secos, cereales, verduras y productos lácteos tales como queso o yogur. Tanto las fuentes proteínas animales como los vegetales poseen los 20 aminoácidos necesarios para la alimentación humana.\n",
            "Las diferentes proteínas tienen diferentes niveles de familia biológica para el cuerpo humano. Muchos índices han sido definidos para medir la tasa de utilización y retención de proteínas en humanos. Estos incluyen valor biológico, NPU (Net Protein Utilization), NPR (Cociente Proteico Neto) y PDCAAS (Protein Digestibility Corrected Amino Acids Score), la cual fue desarrollado por la FDA mejorando el PER (Protein Efficiency Ratio). Estos métodos examinan qué proteínas son más eficientemente usadas por el organismo.\n",
            "El reactivo de Biuret está formado por una disolución de sulfato de cobre en medio alcalino, este reconoce el enlace peptídico de las proteínas mediante la formación de un complejo de coordinación entre los iones Cu2+ y los pares de electrones no compartidos del nitrógeno que forma parte de los enlaces peptídicos, lo que produce una coloración rojo-violeta.\n",
            "Se pone de manifiesto por la formación de un precipitado negruzco de sulfuro de plomo. Se basa esta reacción en la separación mediante un álcali, del azufre de los aminoácidos, el cual al reaccionar con una solución de acetato de plomo, forma el sulfuro de plomo.\n",
            "Reconoce residuos fenólicos, o sea aquellas proteínas que contengan tirosina. Las proteínas se precipitan por acción de los ácidos inorgánicos fuertes del reactivo, dando un precipitado blanco que se vuelve gradualmente rojo al calentar.\n",
            "Reconoce grupos aromáticos, o sea aquellas proteínas que contengan tirosina o fenilalanina, con las cuales el ácido nítrico forma compuestos nitrados amarillos\n",
            "Requerimientos proteicos de la dieta por edad y sexo\n",
            "(años)\n",
            "(Kg)\n",
            "(g/día)\n",
            "0.5\n",
            "9\n",
            "14\n",
            "4-6\n",
            "7-10\n",
            "20\n",
            "28\n",
            "24\n",
            "28\n",
            "15-18\n",
            "19-24\n",
            "25-50\n",
            "más de 50\n",
            "66\n",
            "72\n",
            "79\n",
            "77\n",
            "59\n",
            "58\n",
            "63\n",
            "63\n",
            "15-18\n",
            "19-24\n",
            "25- 50\n",
            "más de 50\n",
            "55\n",
            "58\n",
            "63\n",
            "65\n",
            "44\n",
            "46\n",
            "50\n",
            "50\n",
            "Food and Nutrition Board, National Academy of\n",
            "Science/National Research Council 1989\n",
            "Deficiencia de proteínas en países en vías de desarrollo.\n",
            "La deficiencia de proteína es una causa importante de enfermedad y muerte en el tercer mundo. La deficiencia de proteína juega una parte en la enfermedad conocida como kwashiorkor. La guerra, la hambruna, la sobrepoblación y otros factores incrementaron la tasa de malnutrición y deficiencia de proteínas. La deficiencia de proteína puede conducir a una inteligencia reducida o retardo mental.\n",
            "La malnutrición proteico calórica afecta a 500 millones de personas y más de 10 millones anualmente[cita requerida]. En casos severos el número de células blancas disminuye, de la misma manera se ve reducida drásticamente la habilidad de los leucocitos de combatir una infección.\n",
            "Deficiencia de proteínas en países desarrollados\n",
            "La deficiencia de proteínas es rara en países desarrollados pero un pequeño número de personas tiene dificultad para obtener suficiente proteína debido a la pobreza. La deficiencia de proteína también puede ocurrir en países desarrollados en personas que están haciendo dieta para perder peso, o en adultos mayores quienes pueden tener una dieta pobre. Las personas convalecientes, recuperándose de cirugía, trauma o enfermedades pueden tener déficit proteico si no incrementan su consumo para soportar el incremento en sus necesidades. Una deficiencia también puede ocurrir si la proteína consumida por una persona está incompleta y falla en proveer todos los aminoácidos esenciales.\n",
            "Como el organismo es incapaz de almacenar las proteínas, el exceso de proteínas es digerido y convertido en azúcares o ácidos grasos. El hígado retira el nitrógeno de los aminoácidos, una manera de que éstos pueden ser consumidos como combustible, y el nitrógeno es incorporado en la urea, la sustancia que es excretada por los riñones. Estos órganos normalmente pueden lidiar con cualquier sobrecarga adicional, pero si existe enfermedad renal, una disminución en la proteína frecuentemente será prescrita.\n",
            "El exceso en el consumo de proteínas también puede causar la pérdida de calcio corporal, lo cual puede conducir a pérdida de masa ósea a largo plazo. Sin embargo, varios suplementos proteicos vienen suplementados con diferentes cantidades de calcio por ración, de manera que pueden contrarrestar el efecto de la pérdida de calcio.\n",
            "Algunos médicos sospechan[¿quién?] que el consumo excesivo de proteínas está ligado a varios problemas:\n",
            "En tales casos, el consumo de proteínas es anabólico para el hueso. Algunos investigadores[¿quién?] piensan que un consumo excesivo de proteínas produce un incremento forzado en la excreción del calcio. Si hay consumo excesivo de proteínas, se piensa que un consumo regular de calcio sería capaz de estabilizar, o inclusive incrementar, la captación de calcio por el intestino delgado[cita requerida], lo cual sería más beneficioso en mujeres mayores[cita requerida].\n",
            "Las proteínas son frecuentemente causa de alergias y reacciones alérgicas a ciertos alimentos. Esto ocurre porque la estructura de cada forma de proteína es ligeramente diferente. Algunas pueden desencadenar una respuesta a partir del sistema inmune, mientras que otras permanecen perfectamente seguras. Muchas personas son alérgicas a la caseína (la proteína en la leche), al gluten (la proteína en el trigo) y otros granos, a la proteína particular encontrada en el maní o aquellas encontradas en mariscos y otras comidas marinas.\n",
            "Es extremadamente inusual que una misma persona reaccione adversamente a más de dos tipos diferentes de proteínas, debido a la diversidad entre los tipos de proteínas o aminoácidos. Aparte de eso, las proteínas ayudan a la formación de la masa muscular.\n",
            "Las proteínas en los alimentos, es un parámetro de importancia desde el punto de vista económico y de la calidad y cualidades organolépticas y nutricionales. Debido a ello su medición está incluida dentro del Análisis Químico Proximal de los alimentos (en el cual se mide principalmente el contenido de humedad, grasa, proteína y cenizas).[18]​\n",
            "El clásico ensayo para medir concentración de proteínas en alimentos es el método de Kjeldahl. Este ensayo determina el nitrógeno total en una muestra. El único componente de la mayoría de los alimentos que contiene nitrógeno son las proteínas (las grasas, los carbohidratos y la fibra dietética no contienen nitrógeno). Si la cantidad de nitrógeno es multiplicada por un factor dependiente del tipo de proteína esperada en el alimento, la cantidad total de proteínas puede ser determinada. En las etiquetas de los alimentos, la proteína es expresada como el nitrógeno multiplicado por 6,25, porque el contenido de nitrógeno promedio de las proteínas es de aproximadamente 16 %. El método de Kjeldahl es usado porque es el método que la AOAC International ha adoptado y por lo tanto es usado por varias agencias alimentarias alrededor del mundo.\n",
            "La digestión de las proteínas se inicia típicamente en el estómago, cuando el pepsinógeno es convertido a pepsina por la acción del ácido clorhídrico, y continúa por la acción de la tripsina y la quimotripsina en el intestino. Las proteínas de la dieta son degradadas a péptidos cada vez más pequeños, y éstos hasta aminoácidos y sus derivados, que son absorbidos por el epitelio gastrointestinal. La tasa de absorción de los aminoácidos individuales es altamente dependiente de la fuente de proteínas. Por ejemplo, la digestibilidad de muchos aminoácidos en humanos difiere entre la proteína de la soja y la proteína de la leche[19]​\n",
            "y entre proteínas de la leche individuales, como beta-lactoglobulina y caseína.[20]​\n",
            "Para las proteínas de la leche, aproximadamente el 50 % de la proteína ingerida se absorbe en el duodeno o el yeyuno,[21]​ y el 90 % se ha absorbido ya cuando los alimentos ingeridos alcanzan el íleon.[22]​\n",
            "Además de su rol en la síntesis de proteínas, los aminoácidos también son una importante fuente nutricional de nitrógeno. Las proteínas, al igual que los carbohidratos, contienen cuatro kilocalorías por gramo, mientras que los lípidos contienen nueve kcal., y los alcoholes, siete kcal. Los aminoácidos pueden ser convertidos en glucosa a través de un proceso llamado gluconeogénesis.\n",
            "Las estructuras y actividades de las proteínas pueden ser estudiadas in vitro, in vivo e in silico. Los estudios in vitro de proteínas purificadas en ambientes controlados son útiles para comprender de qué manera una proteína lleva a cabo su función: por ejemplo, los estudios de cinética enzimática exploran los mecanismos químicos de la actividad catalítica de una enzima y su afinidad relativa por diferentes sustratos moleculares. Por su parte, los experimentos in vivo pueden aportar información sobre el papel fisiológico de una determinada enzima en el contexto de la célula o incluso de todo un organismo. Los estudios in silico usan métodos computacionales para el estudio de las proteínas.\n",
            "Para realizar el análisis in vitro de una proteína, esta debe ser separada de otros componentes celulares. Este proceso generalmente empieza con la lisis de la célula, en la cual se destruye la membrana celular y su contenido se libera formando una solución llamada lisado crudo. La mezcla resultante puede ser purificada utilizando ultracentrifugación, que separa los distintos componentes celulares en fracciones que contienen proteínas solubles; lípidos y proteínas de membrana; orgánulos celulares y ácidos nucléicos. La precipitación por un método que se basa en la utilización de elevadas concentraciones salinas puede concentrar las proteínas del lisado. Diversos tipos de cromatografía se usan para aislar la proteína o proteínas de interés basándose en propiedades como la masa molecular, carga neta o afinidad de unión. El nivel de purificación puede ser monitorizado empleando varios tipos de electroforesis en gel si se conocen la masa molecular y el punto isoeléctrico de la proteína estudiada, por espectroscopía si la proteína tiene características espectroscópicas distinguibles, o bien por ensayos de enzimas si la proteína tiene una actividad enzimática. Además, las proteínas pueden ser aisladas según su carga por medio de la técnica de isoelectroenfoque.\n",
            "Para las proteínas naturales, pueden ser necesarios varios pasos de purificación para obtener proteína suficientemente pura para su uso en laboratorios. Para simplificar este proceso se utiliza a menudo la ingeniería genética para añadir características químicas a la proteína que faciliten su purificación, sin alterar su estructura o función. Como ejemplo, se le puede unir al final de la proteína una etiqueta consistente en una secuencia de aminoácidos específica, a menudo una serie de residuos de histidina. Como resultado, cuando el lisado se hace pasar por una columna de cromatografía que contenga níquel los residuos de histidina se unen al níquel y anclan la proteína a la columna mientras que los componentes no etiquetados del lisado pasan sin impedimento.\n",
            "El estudio de las proteínas in vivo trata de conocer cual es la localización y el lugar de síntesis de la proteína en la célula. Aunque muchas proteínas intracelulares se sintetizan en el citoplasma y las proteínas de membrana o secretadas en el retículo endoplasmático, los detalles de cómo las proteínas son dirigidas a orgánulos o estructuras celulares específicas no se conocen bien. Una técnica útil para estimar la localización celular utiliza la ingeniería genética para expresar en la célula una proteína de fusión o quimera formada por la proteína natural de interés unida a un reportero como la proteína verde fluorescente. La localización en la célula de la proteína fusionada puede ser visualizada de forma clara y eficiente por microscopía, como se ve en el ejemplo de la figura.\n",
            "Otro método para elucidar la localización celular de las proteínas de marcadores de compartimento conocidos para regiones como el retículo endoplasmático, aparato de golgi, lisosomas, vacuolas, mitocondrias, cloroplastos, membrana plasmática, etc. Con el uso se versiones etiquetadas con fluorescencia de estos marcadores o de anticuerpor para marcadores conocidos se facilita la localización celular de una proteína de interés. Por ejemplo, la inmunofluorescencia indirecta permite la colocalización por fluorescencia y la demostración de la localización. Las tinciones fluorescentes se usan para etiquetar compartimentos celulares con un propósito similar.\n",
            "Existen otras posibilidades. Por ejemplo, la inmunohistoquímica utiliza un anticuerpo específico de una o varias proteínas de interés que están conjugadas a enzimas que producen señales por luminiscencia o cromogénicas que pueden detectarse y compararse entre muestras, lo que permite obtener información sobre la localización celular de las proteínas. Otra técnica aplicable es la cofraccionación en gradientes de sacarosa (u otro material) utilizando la centrifugación isopícnica o diferencial.\n",
            "Ref.:[24]​\n",
            "\n"
          ],
          "name": "stdout"
        }
      ]
    },
    {
      "cell_type": "code",
      "metadata": {
        "id": "7fMvxjgbCT6X",
        "colab_type": "code",
        "colab": {}
      },
      "source": [
        "def split_sentences(par):\n",
        "    \"\"\"\n",
        "    Splits the paragraph into individual sentences\n",
        "    \"\"\"\n",
        "    sentences = sent_tokenize(par)\n",
        "    for j in reversed(range(len(sentences))):\n",
        "      sent = sentences[j]\n",
        "      sentences[j] = sent.strip()\n",
        "      if sent == '':\n",
        "        sentences.pop(j)\n",
        "    return sentences"
      ],
      "execution_count": 0,
      "outputs": []
    },
    {
      "cell_type": "code",
      "metadata": {
        "id": "CB6yma0xCyLf",
        "colab_type": "code",
        "outputId": "0d3411e7-a9ce-4bcb-ea3c-51e20691d873",
        "colab": {
          "base_uri": "https://localhost:8080/",
          "height": 55
        }
      },
      "source": [
        "par1 = retext[12]\n",
        "par1"
      ],
      "execution_count": 50,
      "outputs": [
        {
          "output_type": "execute_result",
          "data": {
            "text/plain": [
              "'Las proteínas se ensamblan a partir de sus aminoácidos utilizando la información codificada en los genes. Cada proteína tiene su propia secuencia de aminoácidos que está especificada por la secuencia de nucleótidos del gen que la codifica. El código genético está formado por un conjunto de tri-nucleótidos denominados codones. Cada codón (combinación de tres nucleótidos) designa un aminoácido, por ejemplo AUG (adenina-uracilo-guanina) es el código para la metionina. Como el ADN contiene cuatro nucleótidos distintos, el número total de codones posibles es 64; por lo tanto, existe cierta redundancia en el código genético, estando algunos aminoácidos codificados por más de un codón. Los genes codificados en el ADN se transcriben primero en ARN pre-mensajero mediante proteínas como la ARN polimerasa. La mayor parte de los organismos procesan entonces este pre-ARNm (también conocido como tránscrito primario) utilizando varias formas de modificación post-transcripcional para formar ARNm maduros, que se utilizan como molde para la síntesis de proteínas en el ribosoma. En los procariotas el ARNm puede utilizarse tan pronto como se produce, o puede unirse al ribosoma después de haberse alejado del nucleoide. Por el contrario, los eucariotas sintetizan el ARNm en el núcleo celular y lo translocan a través de la envoltura nuclear hasta el citoplasma donde se realiza la síntesis proteica. La tasa de síntesis proteica es mayor en procariotas que en eucariotas y puede alcanzar los 20 aminoácidos por segundo.[7]\\u200b'"
            ]
          },
          "metadata": {
            "tags": []
          },
          "execution_count": 50
        }
      ]
    },
    {
      "cell_type": "code",
      "metadata": {
        "id": "WwxgsJVSDHd7",
        "colab_type": "code",
        "outputId": "118cda3a-15b6-4b1e-f9f2-1b1f0221c270",
        "colab": {
          "base_uri": "https://localhost:8080/",
          "height": 240
        }
      },
      "source": [
        "par2 = split_sentences(par1)\n",
        "par2"
      ],
      "execution_count": 51,
      "outputs": [
        {
          "output_type": "execute_result",
          "data": {
            "text/plain": [
              "['Las proteínas se ensamblan a partir de sus aminoácidos utilizando la información codificada en los genes.',\n",
              " 'Cada proteína tiene su propia secuencia de aminoácidos que está especificada por la secuencia de nucleótidos del gen que la codifica.',\n",
              " 'El código genético está formado por un conjunto de tri-nucleótidos denominados codones.',\n",
              " 'Cada codón (combinación de tres nucleótidos) designa un aminoácido, por ejemplo AUG (adenina-uracilo-guanina) es el código para la metionina.',\n",
              " 'Como el ADN contiene cuatro nucleótidos distintos, el número total de codones posibles es 64; por lo tanto, existe cierta redundancia en el código genético, estando algunos aminoácidos codificados por más de un codón.',\n",
              " 'Los genes codificados en el ADN se transcriben primero en ARN pre-mensajero mediante proteínas como la ARN polimerasa.',\n",
              " 'La mayor parte de los organismos procesan entonces este pre-ARNm (también conocido como tránscrito primario) utilizando varias formas de modificación post-transcripcional para formar ARNm maduros, que se utilizan como molde para la síntesis de proteínas en el ribosoma.',\n",
              " 'En los procariotas el ARNm puede utilizarse tan pronto como se produce, o puede unirse al ribosoma después de haberse alejado del nucleoide.',\n",
              " 'Por el contrario, los eucariotas sintetizan el ARNm en el núcleo celular y lo translocan a través de la envoltura nuclear hasta el citoplasma donde se realiza la síntesis proteica.',\n",
              " 'La tasa de síntesis proteica es mayor en procariotas que en eucariotas y puede alcanzar los 20 aminoácidos por segundo.',\n",
              " '[7]\\u200b']"
            ]
          },
          "metadata": {
            "tags": []
          },
          "execution_count": 51
        }
      ]
    },
    {
      "cell_type": "code",
      "metadata": {
        "id": "lA0HLtyuV4Pz",
        "colab_type": "code",
        "colab": {}
      },
      "source": [
        "\n"
      ],
      "execution_count": 0,
      "outputs": []
    },
    {
      "cell_type": "markdown",
      "metadata": {
        "id": "Y0XC94mbpcFl",
        "colab_type": "text"
      },
      "source": [
        "#Encoding sentences and using K-means"
      ]
    },
    {
      "cell_type": "code",
      "metadata": {
        "id": "4rT8oXpBPwH5",
        "colab_type": "code",
        "colab": {}
      },
      "source": [
        "nlp = spacy.load(\"es_core_news_md\")  # Spanish encoding model\n"
      ],
      "execution_count": 0,
      "outputs": []
    },
    {
      "cell_type": "code",
      "metadata": {
        "id": "43WAi2cfP4O1",
        "colab_type": "code",
        "colab": {}
      },
      "source": [
        ""
      ],
      "execution_count": 0,
      "outputs": []
    },
    {
      "cell_type": "code",
      "metadata": {
        "id": "hL19DMZEEFZK",
        "colab_type": "code",
        "colab": {}
      },
      "source": [
        "def sent_encode(par):\n",
        "    \"\"\"\n",
        "    Obtains sentence embeddings for each sentence in the paragraph\n",
        "    \"\"\"\n",
        "    enc_par = []\n",
        "    \n",
        "    for i in range(len(par)):\n",
        "\n",
        "      print('Encoding sentence ' + str(i))\n",
        "      enc_sent = nlp(par[i]).vector\n",
        "      enc_par.append(enc_sent)\n",
        "\n",
        "    return enc_par"
      ],
      "execution_count": 0,
      "outputs": []
    },
    {
      "cell_type": "code",
      "metadata": {
        "id": "B6DKw9s2VTWR",
        "colab_type": "code",
        "outputId": "c3b1c42b-a59b-467e-8858-6450514cd036",
        "colab": {
          "base_uri": "https://localhost:8080/",
          "height": 1000
        }
      },
      "source": [
        "par3 = sent_encode(par2)\n",
        "par3"
      ],
      "execution_count": 52,
      "outputs": [
        {
          "output_type": "stream",
          "text": [
            "Encoding sentence 0\n",
            "Encoding sentence 1\n",
            "Encoding sentence 2\n",
            "Encoding sentence 3\n",
            "Encoding sentence 4\n",
            "Encoding sentence 5\n",
            "Encoding sentence 6\n",
            "Encoding sentence 7\n",
            "Encoding sentence 8\n",
            "Encoding sentence 9\n",
            "Encoding sentence 10\n"
          ],
          "name": "stdout"
        },
        {
          "output_type": "execute_result",
          "data": {
            "text/plain": [
              "[array([-0.0150147 , -1.0762547 ,  0.03071171, -0.48124352,  0.3425341 ,\n",
              "        -0.07702905, -0.15837476, -0.34623918, -0.02209864,  3.1386821 ,\n",
              "         0.5085597 ,  0.37686336,  0.05889688, -0.3501957 ,  1.3512353 ,\n",
              "        -0.06457248,  0.035643  ,  0.109364  , -0.27256873, -0.13137819,\n",
              "         1.0245657 ,  0.19740635, -0.030686  , -0.3189381 , -0.27628326,\n",
              "         0.24071014, -0.8532512 ,  1.7748352 ,  0.7212638 , -0.01116618,\n",
              "         1.7862251 , -0.44874296, -1.704863  , -0.34440655,  0.02198147,\n",
              "         0.16672239,  0.6018072 , -0.5963396 ,  0.575108  , -0.00607878,\n",
              "         0.08633947, -0.36125684, -0.00393353,  0.03392623,  0.9531573 ,\n",
              "         0.20252813, -0.15829328, -2.1899488 , -0.1675414 , -0.5235251 ],\n",
              "       dtype=float32),\n",
              " array([-0.45335427, -1.3066441 ,  0.03853182, -0.5745421 ,  0.37614238,\n",
              "        -0.02510436, -0.20563918, -0.253313  , -0.22790147,  3.2233796 ,\n",
              "         0.4581275 ,  0.6017053 ,  0.1159041 ,  0.05008692,  1.2391926 ,\n",
              "        -0.11799955,  0.359495  ,  0.02911304, -0.30654976,  0.12910204,\n",
              "         0.94102   ,  0.10870349, -0.16849814, -0.38226935,  0.25532252,\n",
              "         0.24821682, -0.77628005,  1.817318  ,  0.72443944, -0.17531227,\n",
              "         1.6828709 , -0.13339801, -1.519571  , -0.5274646 ,  0.05018932,\n",
              "         0.58056104,  0.6686039 , -0.5502461 ,  0.3971379 ,  0.18901311,\n",
              "        -0.25434986, -0.2881206 , -0.13452722, -0.04094378,  0.71324223,\n",
              "        -0.03662141, -0.28175053, -1.968273  , -0.34709355, -0.5558142 ],\n",
              "       dtype=float32),\n",
              " array([-0.54878706, -0.71256524, -0.03635545, -0.54782176,  0.2854949 ,\n",
              "        -0.12832326, -0.09024493, -0.1757744 , -0.25193638,  2.5802813 ,\n",
              "         0.06044353,  0.26517597, -0.06441561, -0.36724412,  0.70291704,\n",
              "         0.17999193,  0.3954188 , -0.00270653,  0.036398  , -0.02860933,\n",
              "         0.73386055,  0.24184981, -0.06654026, -0.3641775 ,  0.3077967 ,\n",
              "        -0.14187235, -0.6649638 ,  1.3108114 ,  0.3340202 ,  0.17133199,\n",
              "         1.3645985 ,  0.14888674, -1.3207868 , -0.0534168 ,  0.21665993,\n",
              "         0.16360211,  0.5829077 , -0.25685754,  0.16164766, -0.01427226,\n",
              "        -0.10619233,  0.06718513, -0.18588988, -0.22999167,  0.4875105 ,\n",
              "        -0.1070214 , -0.2618763 , -1.8775079 , -0.5141592 , -0.21709727],\n",
              "       dtype=float32),\n",
              " array([-3.06661844e-01, -6.09075308e-01,  4.65537347e-02, -6.23909235e-01,\n",
              "         4.90866229e-02, -1.18644789e-01, -1.49943292e-01, -3.40881884e-01,\n",
              "        -3.16355079e-01,  1.94188666e+00,  1.96537033e-01,  5.07174730e-01,\n",
              "         9.74762142e-02, -1.12130612e-01,  7.74266124e-01,  1.08842514e-01,\n",
              "         2.68690795e-01, -1.31280012e-02, -1.08000124e-03,  2.86025517e-02,\n",
              "         5.72446823e-01,  9.19697583e-02, -2.24434547e-02, -3.28501731e-01,\n",
              "         9.52761620e-02,  3.36781368e-02, -6.09463274e-01,  1.07897079e+00,\n",
              "         4.79293793e-01,  1.06092751e-01,  1.25421810e+00, -1.56868771e-01,\n",
              "        -9.58134472e-01, -8.57630372e-02,  3.86443771e-02,  3.31265420e-01,\n",
              "         3.87549430e-01, -1.74859062e-01,  2.32480496e-01,  1.56519890e-01,\n",
              "        -1.77461922e-01, -2.32953485e-02, -7.65710026e-02, -1.05212433e-02,\n",
              "         5.73661685e-01,  3.83600630e-02, -2.45091110e-01, -1.35577679e+00,\n",
              "        -3.22690547e-01, -1.93379015e-01], dtype=float32),\n",
              " array([-0.43907747, -0.7708167 ,  0.11232855, -0.4662546 ,  0.06053076,\n",
              "        -0.10123441, -0.1468105 , -0.0089928 , -0.09949072,  2.6907554 ,\n",
              "         0.17390966,  0.42086485, -0.09229987, -0.2381716 ,  0.9561287 ,\n",
              "         0.14508893,  0.45181116,  0.14219628, -0.06858377, -0.10237744,\n",
              "         1.0939387 ,  0.21039864,  0.04120427, -0.3972303 ,  0.12140246,\n",
              "        -0.02497905, -0.7475524 ,  1.3891517 ,  0.54208964,  0.14745225,\n",
              "         1.5631199 , -0.01276351, -1.3999549 , -0.05896782,  0.06446054,\n",
              "         0.3255646 ,  0.5998302 , -0.20366459,  0.30805826,  0.01999003,\n",
              "        -0.1056828 ,  0.09078298, -0.01040265, -0.18658401,  0.67148525,\n",
              "        -0.09840986, -0.19488087, -1.6967093 , -0.34391484, -0.33056703],\n",
              "       dtype=float32),\n",
              " array([-0.35257858, -0.77500033,  0.04416853, -0.4178145 ,  0.2819264 ,\n",
              "        -0.10682691, -0.0559801 , -0.3360237 , -0.16832165,  2.3761446 ,\n",
              "         0.15884499,  0.2774504 , -0.07153748, -0.35021687,  0.98879987,\n",
              "        -0.03833709,  0.23419845,  0.07199233, -0.15696132, -0.13560064,\n",
              "         0.76684326,  0.2601557 , -0.03879596, -0.3338162 , -0.01926881,\n",
              "         0.09105519, -0.60427403,  1.3362482 ,  0.53477025,  0.00934234,\n",
              "         1.3105593 , -0.16901909, -1.0714906 , -0.25734678,  0.06400296,\n",
              "         0.08425299,  0.5149066 , -0.35292736,  0.22260167, -0.06388352,\n",
              "        -0.12962753, -0.18938142, -0.06679557, -0.20224471,  0.7779245 ,\n",
              "        -0.02202362, -0.16751128, -1.6493365 , -0.12226468, -0.3944604 ],\n",
              "       dtype=float32),\n",
              " array([-1.64190337e-01, -7.41305172e-01,  1.86798766e-01, -5.17461419e-01,\n",
              "         2.08470866e-01, -5.75255789e-02,  7.38553982e-03, -2.69813299e-01,\n",
              "        -1.59396440e-01,  2.41331720e+00,  1.35132894e-01,  2.91012108e-01,\n",
              "         1.23303744e-03, -2.58913785e-01,  9.80024755e-01,  5.37713282e-02,\n",
              "         4.44903880e-01,  1.05860665e-01, -1.49480045e-01, -9.70613360e-02,\n",
              "         1.04492140e+00,  1.47424325e-01, -9.31415036e-02, -2.69647330e-01,\n",
              "        -1.65688708e-01,  5.87245710e-02, -7.96942651e-01,  1.43747497e+00,\n",
              "         5.51712632e-01,  1.77000359e-01,  1.70614743e+00, -2.31112525e-01,\n",
              "        -1.48698342e+00, -1.84010252e-01, -3.73783447e-02,  1.75834671e-01,\n",
              "         5.74046731e-01, -2.34434277e-01,  3.03854883e-01, -8.11687112e-02,\n",
              "        -2.30636135e-01, -7.92549998e-02, -1.97668690e-02, -4.02526632e-02,\n",
              "         5.97207487e-01,  1.58990100e-01, -2.61165023e-01, -1.72654819e+00,\n",
              "        -2.01724753e-01, -4.53396767e-01], dtype=float32),\n",
              " array([-0.24634668, -0.8816678 ,  0.35382712, -0.41150078,  0.11962097,\n",
              "        -0.27512234, -0.19129898, -0.10867327, -0.17583814,  2.6438644 ,\n",
              "         0.10775656,  0.31303704,  0.01446376, -0.44152236,  0.9702542 ,\n",
              "         0.18034494,  0.4572593 ,  0.39287606, -0.1076849 , -0.03431384,\n",
              "         1.2723994 ,  0.02025896, -0.16986814, -0.47846547,  0.00738596,\n",
              "         0.19414702, -0.73488176,  1.52072   ,  0.74211574,  0.02215588,\n",
              "         2.0316226 , -0.09131084, -1.569719  , -0.21275444,  0.11412421,\n",
              "         0.4366217 ,  0.44903624, -0.20822087,  0.2345992 ,  0.24519376,\n",
              "        -0.22994715, -0.05540257, -0.08117004, -0.10787168,  0.51513827,\n",
              "         0.01504336, -0.482931  , -1.9726547 , -0.18874177, -0.5928696 ],\n",
              "       dtype=float32),\n",
              " array([-0.25213417, -0.85877264,  0.18078932, -0.4931203 ,  0.3193139 ,\n",
              "        -0.20499314, -0.11953913, -0.23368987, -0.13765393,  2.8295274 ,\n",
              "         0.02640643,  0.5296161 , -0.09345122, -0.36515984,  1.0661029 ,\n",
              "         0.1084809 ,  0.34910563,  0.11743139, -0.30354765, -0.05083732,\n",
              "         1.1967661 ,  0.11812729, -0.098647  , -0.34767035, -0.11900958,\n",
              "        -0.01584272, -0.89672005,  1.6609936 ,  0.41259006, -0.06972966,\n",
              "         1.843296  , -0.31330034, -1.5800279 , -0.29690614, -0.01025469,\n",
              "         0.37466234,  0.59573483, -0.419667  ,  0.4454745 ,  0.25399038,\n",
              "        -0.42600942, -0.10709754, -0.18977235, -0.04523532,  0.7930923 ,\n",
              "         0.22058675, -0.43836635, -2.131     , -0.11069255, -0.8021578 ],\n",
              "       dtype=float32),\n",
              " array([-0.17521527, -0.8080869 ,  0.22192474, -0.5920359 ,  0.24114668,\n",
              "        -0.15694113, -0.11089076, -0.3762465 , -0.00679318,  3.1763484 ,\n",
              "         0.34086567,  0.66554964, -0.05004566, -0.0913891 ,  1.2069293 ,\n",
              "         0.06984586,  0.41502768,  0.24390939, -0.13183287,  0.07395718,\n",
              "         1.1213895 ,  0.16433205, -0.13433677, -0.22760391, -0.11032099,\n",
              "         0.09215043, -0.8091708 ,  1.7116897 ,  0.6840707 ,  0.01914505,\n",
              "         1.7745659 , -0.16652457, -1.7393969 , -0.3366402 , -0.03324592,\n",
              "         0.492061  ,  0.7000657 , -0.29844362,  0.39299828,  0.10078748,\n",
              "        -0.14787903, -0.22502726,  0.0130008 ,  0.18971232,  0.874428  ,\n",
              "         0.14866152, -0.3305322 , -2.174293  , -0.35597855, -0.6586974 ],\n",
              "       dtype=float32),\n",
              " array([0., 0., 0., 0., 0., 0., 0., 0., 0., 0., 0., 0., 0., 0., 0., 0., 0.,\n",
              "        0., 0., 0., 0., 0., 0., 0., 0., 0., 0., 0., 0., 0., 0., 0., 0., 0.,\n",
              "        0., 0., 0., 0., 0., 0., 0., 0., 0., 0., 0., 0., 0., 0., 0., 0.],\n",
              "       dtype=float32)]"
            ]
          },
          "metadata": {
            "tags": []
          },
          "execution_count": 52
        }
      ]
    },
    {
      "cell_type": "code",
      "metadata": {
        "id": "PxrRPkxVbP_E",
        "colab_type": "code",
        "colab": {
          "base_uri": "https://localhost:8080/",
          "height": 166
        },
        "outputId": "e797273d-ff10-4594-abc2-0c218b61a5c4"
      },
      "source": [
        "\n",
        "n_clusters = int(np.ceil(len(par3)*0.5))\n",
        "kmeans = KMeans(n_clusters=n_clusters, random_state=0)\n",
        "kmeans = kmeans.fit(par3)\n",
        "avg = []\n",
        "closest = []\n",
        "for j in range(n_clusters):\n",
        "  idx = np.where(kmeans.labels_ == j)[0]\n",
        "  avg.append(np.mean(idx))\n",
        "closest, _ = pairwise_distances_argmin_min(kmeans.cluster_centers_, par3)\n",
        "closest2 = np.sort(closest)\n",
        "#ordering = sorted(range(n_clusters), key=lambda k: avg[k])\n",
        "summary = [par2[closest2[idx]] for idx in range(len(closest2))]\n",
        "print('Clustering Finished')\n",
        "summary\n",
        "\n"
      ],
      "execution_count": 73,
      "outputs": [
        {
          "output_type": "stream",
          "text": [
            "Clustering Finished\n"
          ],
          "name": "stdout"
        },
        {
          "output_type": "execute_result",
          "data": {
            "text/plain": [
              "['Las proteínas se ensamblan a partir de sus aminoácidos utilizando la información codificada en los genes.',\n",
              " 'Cada proteína tiene su propia secuencia de aminoácidos que está especificada por la secuencia de nucleótidos del gen que la codifica.',\n",
              " 'Como el ADN contiene cuatro nucleótidos distintos, el número total de codones posibles es 64; por lo tanto, existe cierta redundancia en el código genético, estando algunos aminoácidos codificados por más de un codón.',\n",
              " 'Los genes codificados en el ADN se transcriben primero en ARN pre-mensajero mediante proteínas como la ARN polimerasa.',\n",
              " 'En los procariotas el ARNm puede utilizarse tan pronto como se produce, o puede unirse al ribosoma después de haberse alejado del nucleoide.',\n",
              " '[7]\\u200b']"
            ]
          },
          "metadata": {
            "tags": []
          },
          "execution_count": 73
        }
      ]
    },
    {
      "cell_type": "code",
      "metadata": {
        "id": "786DpDRjc403",
        "colab_type": "code",
        "colab": {
          "base_uri": "https://localhost:8080/",
          "height": 35
        },
        "outputId": "e91fe9b2-4c1c-4105-a77e-81c329c05868"
      },
      "source": [
        "closest2"
      ],
      "execution_count": 74,
      "outputs": [
        {
          "output_type": "execute_result",
          "data": {
            "text/plain": [
              "array([ 0,  1,  4,  5,  7, 10])"
            ]
          },
          "metadata": {
            "tags": []
          },
          "execution_count": 74
        }
      ]
    },
    {
      "cell_type": "code",
      "metadata": {
        "id": "WgHAbamNdHER",
        "colab_type": "code",
        "colab": {}
      },
      "source": [
        ""
      ],
      "execution_count": 0,
      "outputs": []
    },
    {
      "cell_type": "code",
      "metadata": {
        "id": "dDGRLtp-joYt",
        "colab_type": "code",
        "colab": {}
      },
      "source": [
        ""
      ],
      "execution_count": 0,
      "outputs": []
    },
    {
      "cell_type": "code",
      "metadata": {
        "id": "s5pz6qecACy1",
        "colab_type": "code",
        "colab": {}
      },
      "source": [
        ""
      ],
      "execution_count": 0,
      "outputs": []
    },
    {
      "cell_type": "code",
      "metadata": {
        "id": "w4ocKXA-79-3",
        "colab_type": "code",
        "colab": {}
      },
      "source": [
        ""
      ],
      "execution_count": 0,
      "outputs": []
    },
    {
      "cell_type": "code",
      "metadata": {
        "id": "o7LVZ8R03wWh",
        "colab_type": "code",
        "colab": {}
      },
      "source": [
        "\n",
        "      "
      ],
      "execution_count": 0,
      "outputs": []
    },
    {
      "cell_type": "code",
      "metadata": {
        "id": "gc_as0cX3wp-",
        "colab_type": "code",
        "colab": {}
      },
      "source": [
        ""
      ],
      "execution_count": 0,
      "outputs": []
    }
  ]
}